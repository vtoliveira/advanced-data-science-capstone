{
 "cells": [
  {
   "cell_type": "markdown",
   "metadata": {},
   "source": [
    "## Data Preparation"
   ]
  },
  {
   "cell_type": "code",
   "execution_count": 121,
   "metadata": {},
   "outputs": [
    {
     "name": "stdout",
     "output_type": "stream",
     "text": [
      "The autoreload extension is already loaded. To reload it, use:\n",
      "  %reload_ext autoreload\n"
     ]
    },
    {
     "data": {
      "text/plain": [
       "(14133, 24)"
      ]
     },
     "execution_count": 121,
     "metadata": {},
     "output_type": "execute_result"
    }
   ],
   "source": [
    "# importing data\n",
    "import pandas as pd\n",
    "import numpy as np\n",
    "\n",
    "%load_ext autoreload\n",
    "%autoreload 2\n",
    "\n",
    "data = pd.read_csv(\"data/data_preprocessed.csv\", sep='\\t')\n",
    "\n",
    "# checking its dimensions\n",
    "data.shape"
   ]
  },
  {
   "cell_type": "code",
   "execution_count": 122,
   "metadata": {},
   "outputs": [
    {
     "data": {
      "text/plain": [
       "((12719,), (1414,))"
      ]
     },
     "execution_count": 122,
     "metadata": {},
     "output_type": "execute_result"
    }
   ],
   "source": [
    "from sklearn.model_selection import train_test_split\n",
    "\n",
    "# our feature and label data\n",
    "text, y = data['text_preprocessed'], data['airline_sentiment']\n",
    "\n",
    "# train-test split\n",
    "text_train, text_test, y_train, y_test = train_test_split(text, y, test_size=0.10, random_state=37)\n",
    "text_train.shape, text_test.shape"
   ]
  },
  {
   "cell_type": "markdown",
   "metadata": {},
   "source": [
    "Sampling tweets to see how our model would perform in a real production environment."
   ]
  },
  {
   "cell_type": "code",
   "execution_count": 124,
   "metadata": {},
   "outputs": [
    {
     "data": {
      "text/plain": [
       "[('@united any chance you could look into my problem from earlier?',\n",
       "  'neutral'),\n",
       " ('@USAirways Yes &amp; have already spent 1K+ on the card &amp; paid the $89 annual fee, but the 50K miles have not shown up. Want to fly AUS --&gt; ATL',\n",
       "  'negative'),\n",
       " (\"@SouthwestAir Boooo!!!!!!   Don't be like the other airlines!!  http://t.co/WHAGPknnLF\",\n",
       "  'negative'),\n",
       " (\"@AmericanAir Oh,i already have turned  itover to them, but apparently losing someones bag on their honeymoon doesn't require accountability\",\n",
       "  'negative'),\n",
       " (\"@SouthwestAir @LeeAnnHealey I was all, yeah sale fares! I got places to fly! Oh damn, right, I live where SWA doesn't fly. #why\",\n",
       "  'negative')]"
      ]
     },
     "execution_count": 124,
     "metadata": {},
     "output_type": "execute_result"
    }
   ],
   "source": [
    "random_state = 12\n",
    "\n",
    "tweet_samples = data.loc[text_test.index, 'text'].sample(5, random_state=random_state).values\n",
    "labels = data.loc[text_test.index, 'airline_sentiment'].sample(5, random_state=random_state).values\n",
    "\n",
    "list(zip(tweet_samples, labels))"
   ]
  },
  {
   "cell_type": "markdown",
   "metadata": {},
   "source": [
    "Here we will import our model and parameters necessary, of course, this would be transparent to an end user."
   ]
  },
  {
   "cell_type": "code",
   "execution_count": 125,
   "metadata": {},
   "outputs": [],
   "source": [
    "import pickle\n",
    "\n",
    "with open('vocab_to_int', 'rb') as fp:\n",
    "    vocab_to_int = pickle.load(fp)"
   ]
  },
  {
   "cell_type": "code",
   "execution_count": 126,
   "metadata": {},
   "outputs": [
    {
     "name": "stdout",
     "output_type": "stream",
     "text": [
      "SentimentRNN(\n",
      "  (embedding): Embedding(11809, 200)\n",
      "  (lstm): LSTM(200, 256, num_layers=3, batch_first=True, dropout=0.5)\n",
      "  (dropout): Dropout(p=0.3)\n",
      "  (fc): Linear(in_features=256, out_features=3, bias=True)\n",
      ")\n"
     ]
    }
   ],
   "source": [
    "from models import SentimentRNN\n",
    "\n",
    "# Instantiate the model w/ hyperparams\n",
    "vocab_size = len((vocab_to_int))+1\n",
    "output_size = 3\n",
    "embedding_dim = 200\n",
    "hidden_dim = 256\n",
    "n_layers = 3\n",
    "\n",
    "net = SentimentRNN(vocab_size, output_size, embedding_dim, hidden_dim, n_layers, vocab_to_int)\n",
    "\n",
    "print(net)"
   ]
  },
  {
   "cell_type": "code",
   "execution_count": 127,
   "metadata": {},
   "outputs": [],
   "source": [
    "import torch\n",
    "\n",
    "checkpoint = torch.load('model_pure_200dims.pt')\n",
    "net.load_state_dict(checkpoint['model_state_dict'])"
   ]
  },
  {
   "cell_type": "code",
   "execution_count": 128,
   "metadata": {},
   "outputs": [],
   "source": [
    "tweets = list(tweet_samples)\n",
    "probabilities = []\n",
    "\n",
    "for tweet in tweets:\n",
    "    probabilities.append(net.predict(tweet, 30)[0])"
   ]
  },
  {
   "cell_type": "markdown",
   "metadata": {},
   "source": [
    "### Analysing tweets probabilities"
   ]
  },
  {
   "cell_type": "code",
   "execution_count": 130,
   "metadata": {},
   "outputs": [
    {
     "name": "stdout",
     "output_type": "stream",
     "text": [
      "Tweet: @united any chance you could look into my problem from earlier?\n",
      "--------------------------------------------------\n",
      "Probability of being Negative: 0.10169485211372375 - Neutral: 0.8809473514556885 - Positive: 0.017357753589749336\n",
      "True Label: neutral\n"
     ]
    }
   ],
   "source": [
    "tweet_n = 0\n",
    "print(\"Tweet: {}\".format(tweets[tweet_n]))\n",
    "print('-'*50)\n",
    "print(\"Probability of being Negative: {} - Neutral: {} - Positive: {}\".format(probabilities[tweet_n][0], \n",
    "                                                                            probabilities[tweet_n][1],\n",
    "                                                                            probabilities[tweet_n][2]))\n",
    "print(\"True Label: {}\".format(labels[tweet_n]))"
   ]
  },
  {
   "cell_type": "code",
   "execution_count": 116,
   "metadata": {},
   "outputs": [
    {
     "name": "stdout",
     "output_type": "stream",
     "text": [
      "Tweet: @SouthwestAir we are having a real issue trying to get thru to you.  On hold for 2 hours &amp; got disconnected!  Please help!\n",
      "--------------------------------------------------\n",
      "Probability of being Negative: 0.9789091348648071 - Neutral: 0.015689147636294365 - Positive: 0.005401642993092537\n",
      "True Label: negative\n"
     ]
    }
   ],
   "source": [
    "tweet_n = 1\n",
    "print(\"Tweet: {}\".format(tweets[tweet_n]))\n",
    "print('-'*50)\n",
    "print(\"Probability of being Negative: {} - Neutral: {} - Positive: {}\".format(probabilities[tweet_n][0], \n",
    "                                                                            probabilities[tweet_n][1],\n",
    "                                                                            probabilities[tweet_n][2]))\n",
    "print(\"True Label: {}\".format(labels[tweet_n]))"
   ]
  },
  {
   "cell_type": "code",
   "execution_count": 131,
   "metadata": {},
   "outputs": [
    {
     "name": "stdout",
     "output_type": "stream",
     "text": [
      "Tweet: @SouthwestAir Boooo!!!!!!   Don't be like the other airlines!!  http://t.co/WHAGPknnLF\n",
      "--------------------------------------------------\n",
      "Probability of being Negative: 0.4408182203769684 - Neutral: 0.04991302266716957 - Positive: 0.5092687010765076\n",
      "True Label: negative\n"
     ]
    }
   ],
   "source": [
    "tweet_n = 2\n",
    "print(\"Tweet: {}\".format(tweets[tweet_n]))\n",
    "print('-'*50)\n",
    "print(\"Probability of being Negative: {} - Neutral: {} - Positive: {}\".format(probabilities[tweet_n][0], \n",
    "                                                                            probabilities[tweet_n][1],\n",
    "                                                                          probabilities[tweet_n][2]))\n",
    "print(\"True Label: {}\".format(labels[tweet_n]))"
   ]
  },
  {
   "cell_type": "code",
   "execution_count": 132,
   "metadata": {},
   "outputs": [
    {
     "name": "stdout",
     "output_type": "stream",
     "text": [
      "Tweet: @AmericanAir Oh,i already have turned  itover to them, but apparently losing someones bag on their honeymoon doesn't require accountability\n",
      "--------------------------------------------------\n",
      "Probability of being Negative: 0.954486072063446 - Neutral: 0.04026637226343155 - Positive: 0.005247518420219421\n",
      "True Label: negative\n"
     ]
    }
   ],
   "source": [
    "tweet_n = 3\n",
    "print(\"Tweet: {}\".format(tweets[tweet_n]))\n",
    "print('-'*50)\n",
    "print(\"Probability of being Negative: {} - Neutral: {} - Positive: {}\".format(probabilities[tweet_n][0], \n",
    "                                                                            probabilities[tweet_n][1],\n",
    "                                                                            probabilities[tweet_n][2]))\n",
    "print(\"True Label: {}\".format(labels[tweet_n]))"
   ]
  },
  {
   "cell_type": "code",
   "execution_count": 133,
   "metadata": {},
   "outputs": [
    {
     "name": "stdout",
     "output_type": "stream",
     "text": [
      "Tweet: @SouthwestAir @LeeAnnHealey I was all, yeah sale fares! I got places to fly! Oh damn, right, I live where SWA doesn't fly. #why\n",
      "--------------------------------------------------\n",
      "Probability of being Negative: 0.27486559748649597 - Neutral: 0.13366879522800446 - Positive: 0.5914656519889832\n",
      "True Label: negative\n"
     ]
    }
   ],
   "source": [
    "tweet_n = 4\n",
    "print(\"Tweet: {}\".format(tweets[tweet_n]))\n",
    "print('-'*50)\n",
    "print(\"Probability of being Negative: {} - Neutral: {} - Positive: {}\".format(probabilities[tweet_n][0], \n",
    "                                                                            probabilities[tweet_n][1],\n",
    "                                                                            probabilities[tweet_n][2]))\n",
    "print(\"True Label: {}\".format(labels[tweet_n]))"
   ]
  }
 ],
 "metadata": {
  "kernelspec": {
   "display_name": "Python 3",
   "language": "python",
   "name": "python3"
  },
  "language_info": {
   "codemirror_mode": {
    "name": "ipython",
    "version": 3
   },
   "file_extension": ".py",
   "mimetype": "text/x-python",
   "name": "python",
   "nbconvert_exporter": "python",
   "pygments_lexer": "ipython3",
   "version": "3.6.5"
  }
 },
 "nbformat": 4,
 "nbformat_minor": 2
}
