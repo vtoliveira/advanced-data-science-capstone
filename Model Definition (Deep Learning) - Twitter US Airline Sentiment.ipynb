{
 "cells": [
  {
   "cell_type": "markdown",
   "metadata": {},
   "source": [
    "# Advanced Data Science Capstone - Week 3 - Model Definition - LSTM Network "
   ]
  },
  {
   "cell_type": "markdown",
   "metadata": {},
   "source": [
    "In this notebook we will define a Deep Learning model that will be used altogether for the sentiment analysis task. Here, we will define the network called LSTM, a class inside Recurrent Neural Networks.\n",
    "\n",
    "Deep Learning models are well suited for sentiment classification and unstructured data analysis since they are able to capture order information on texts segmentation. Usually, for traditional classifier we loose order information when processing the Bag of Words, here we will not take it away. Also, we used our dataset processed with word embeddings, and a variety of architectures and text processing combinations will be used to check which one has highest perform."
   ]
  },
  {
   "cell_type": "markdown",
   "metadata": {},
   "source": [
    "We will use the library named pytorch to implement the Deep Learning models. Pytorch is in a lower level than Keras, but they are also ease to use and intuitive. All arquitetures is in a file named models.py, and function to help process data is in utils.py"
   ]
  },
  {
   "cell_type": "code",
   "execution_count": 1,
   "metadata": {},
   "outputs": [
    {
     "data": {
      "text/plain": [
       "(14133, 24)"
      ]
     },
     "execution_count": 1,
     "metadata": {},
     "output_type": "execute_result"
    }
   ],
   "source": [
    "# importing data\n",
    "import pandas as pd\n",
    "import numpy as np\n",
    "\n",
    "%load_ext autoreload\n",
    "%autoreload 2\n",
    "\n",
    "data = pd.read_csv(\"data/data_preprocessed.csv\", sep='\\t')\n",
    "\n",
    "# checking its dimensions\n",
    "data.shape"
   ]
  },
  {
   "cell_type": "code",
   "execution_count": 2,
   "metadata": {},
   "outputs": [
    {
     "data": {
      "text/plain": [
       "array([list(['what', 'said', '<PERIOD>']),\n",
       "       list(['plus', \"you've\", 'added', 'commercials', 'to', 'the', 'experience', 'tacky', '<PERIOD>']),\n",
       "       list(['i', \"didn't\", 'today', 'must', 'mean', 'i', 'need', 'to', 'take', 'another', 'trip', '<EXCLAMATION_MARK>'])], dtype=object)"
      ]
     },
     "execution_count": 2,
     "metadata": {},
     "output_type": "execute_result"
    }
   ],
   "source": [
    "import utils\n",
    "\n",
    "data['text_preprocessed'] = data.text.apply(lambda x: utils.preprocess_tweet(x, punctuation = True))\n",
    "data['text_preprocessed'] = data.text_preprocessed.apply(lambda x: utils.preprocess_text(x))\n",
    "data['text_preprocessed'].values[0:3]"
   ]
  },
  {
   "cell_type": "code",
   "execution_count": 3,
   "metadata": {},
   "outputs": [
    {
     "data": {
      "text/plain": [
       "((12719,), (1414,))"
      ]
     },
     "execution_count": 3,
     "metadata": {},
     "output_type": "execute_result"
    }
   ],
   "source": [
    "from sklearn.model_selection import train_test_split\n",
    "\n",
    "# our feature and label data\n",
    "text, y = data['text_preprocessed'], data['airline_sentiment']\n",
    "\n",
    "# train-test split\n",
    "text_train, text_test, y_train, y_test = train_test_split(text, y, test_size=0.10, random_state=37)\n",
    "text_train.shape, text_test.shape"
   ]
  },
  {
   "cell_type": "markdown",
   "metadata": {},
   "source": [
    "### Baseline"
   ]
  },
  {
   "cell_type": "code",
   "execution_count": 4,
   "metadata": {},
   "outputs": [
    {
     "data": {
      "text/html": [
       "<div>\n",
       "<style scoped>\n",
       "    .dataframe tbody tr th:only-of-type {\n",
       "        vertical-align: middle;\n",
       "    }\n",
       "\n",
       "    .dataframe tbody tr th {\n",
       "        vertical-align: top;\n",
       "    }\n",
       "\n",
       "    .dataframe thead th {\n",
       "        text-align: right;\n",
       "    }\n",
       "</style>\n",
       "<table border=\"1\" class=\"dataframe\">\n",
       "  <thead>\n",
       "    <tr style=\"text-align: right;\">\n",
       "      <th></th>\n",
       "      <th>Train distribution data</th>\n",
       "      <th>Test distribution data</th>\n",
       "    </tr>\n",
       "  </thead>\n",
       "  <tbody>\n",
       "    <tr>\n",
       "      <th>negative</th>\n",
       "      <td>0.638494</td>\n",
       "      <td>0.652758</td>\n",
       "    </tr>\n",
       "    <tr>\n",
       "      <th>neutral</th>\n",
       "      <td>0.207878</td>\n",
       "      <td>0.188826</td>\n",
       "    </tr>\n",
       "    <tr>\n",
       "      <th>positive</th>\n",
       "      <td>0.153628</td>\n",
       "      <td>0.158416</td>\n",
       "    </tr>\n",
       "  </tbody>\n",
       "</table>\n",
       "</div>"
      ],
      "text/plain": [
       "          Train distribution data  Test distribution data\n",
       "negative                 0.638494                0.652758\n",
       "neutral                  0.207878                0.188826\n",
       "positive                 0.153628                0.158416"
      ]
     },
     "execution_count": 4,
     "metadata": {},
     "output_type": "execute_result"
    }
   ],
   "source": [
    "pd.concat([pd.Series(y_train, name = 'Train distribution data').value_counts(normalize=True),\n",
    "           pd.Series(y_test, name = 'Test distribution data').value_counts(normalize=True)], axis = 1)"
   ]
  },
  {
   "cell_type": "code",
   "execution_count": 5,
   "metadata": {},
   "outputs": [
    {
     "name": "stdout",
     "output_type": "stream",
     "text": [
      "Len 241297\n",
      "Unique words 11808\n"
     ]
    }
   ],
   "source": [
    "# create a list of all words in the data set\n",
    "words = [word for text in text_train.values for word in text]\n",
    "\n",
    "print(\"Len {}\".format(len(words)))\n",
    "print(\"Unique words {}\".format(len(set(words))))"
   ]
  },
  {
   "cell_type": "code",
   "execution_count": 6,
   "metadata": {},
   "outputs": [
    {
     "data": {
      "text/plain": [
       "[[10803,\n",
       "  9043,\n",
       "  6841,\n",
       "  4947,\n",
       "  4470,\n",
       "  7522,\n",
       "  10343,\n",
       "  4186,\n",
       "  4415,\n",
       "  944,\n",
       "  6320,\n",
       "  6996,\n",
       "  660,\n",
       "  6320,\n",
       "  11354,\n",
       "  6415,\n",
       "  4291,\n",
       "  3731,\n",
       "  6841,\n",
       "  9609,\n",
       "  11393,\n",
       "  9113,\n",
       "  9016],\n",
       " [5401, 269, 4886, 5890, 4614, 6074, 11273, 8579, 1597]]"
      ]
     },
     "execution_count": 6,
     "metadata": {},
     "output_type": "execute_result"
    }
   ],
   "source": [
    "# feel free to use this import \n",
    "from collections import Counter\n",
    "\n",
    "## Build a dictionary that maps words to integers\n",
    "vocab_to_int = {word:(ii+1) for ii, word in enumerate(set(words))}\n",
    "\n",
    "## use the dict to tokenize each review in reviews_split\n",
    "## store the tokenized reviews in reviews_ints\n",
    "def tokenize_custom(review):\n",
    "    new_review = []\n",
    "    for word in review:\n",
    "        try:\n",
    "            new_review.append(vocab_to_int[word])\n",
    "        except Exception as e:\n",
    "            pass\n",
    "    return new_review\n",
    "\n",
    "tweets = text_train.values\n",
    "reviews_ints = [tokenize_custom(word) for word in tweets]\n",
    "reviews_ints[0:2]"
   ]
  },
  {
   "cell_type": "markdown",
   "metadata": {},
   "source": [
    "Before continuing, we need to do the same thing for test set. I will do everything in just one cell."
   ]
  },
  {
   "cell_type": "code",
   "execution_count": 7,
   "metadata": {},
   "outputs": [
    {
     "data": {
      "text/plain": [
       "[[5670,\n",
       "  9290,\n",
       "  2001,\n",
       "  5670,\n",
       "  2717,\n",
       "  2001,\n",
       "  9560,\n",
       "  5670,\n",
       "  6691,\n",
       "  2716,\n",
       "  4869,\n",
       "  3482,\n",
       "  4186,\n",
       "  10323,\n",
       "  11599,\n",
       "  6320,\n",
       "  9170,\n",
       "  4262,\n",
       "  7165,\n",
       "  2001,\n",
       "  3710,\n",
       "  1673,\n",
       "  8810,\n",
       "  6320,\n",
       "  4050,\n",
       "  1597,\n",
       "  3050,\n",
       "  7288,\n",
       "  6974],\n",
       " [8096,\n",
       "  3871,\n",
       "  6727,\n",
       "  6841,\n",
       "  2414,\n",
       "  9057,\n",
       "  8917,\n",
       "  7044,\n",
       "  2828,\n",
       "  6320,\n",
       "  4308,\n",
       "  1600,\n",
       "  11224,\n",
       "  11370,\n",
       "  273,\n",
       "  8025,\n",
       "  7288,\n",
       "  3559,\n",
       "  6320]]"
      ]
     },
     "execution_count": 7,
     "metadata": {},
     "output_type": "execute_result"
    }
   ],
   "source": [
    "tweets_test = text_test.values\n",
    "\n",
    "# we dont do vocab_to_int again, because if a word is not mapped, we just replace it with zeros\n",
    "reviews_ints_test = [tokenize_custom(word) for word in tweets_test]\n",
    "reviews_ints_test[0:2]"
   ]
  },
  {
   "cell_type": "code",
   "execution_count": 8,
   "metadata": {},
   "outputs": [
    {
     "name": "stdout",
     "output_type": "stream",
     "text": [
      "Unique words:  11808\n",
      "\n",
      "Tokenized review: \n",
      " [[10803, 9043, 6841, 4947, 4470, 7522, 10343, 4186, 4415, 944, 6320, 6996, 660, 6320, 11354, 6415, 4291, 3731, 6841, 9609, 11393, 9113, 9016]]\n"
     ]
    }
   ],
   "source": [
    "# stats about vocabulary\n",
    "print('Unique words: ', len((vocab_to_int)))  # should ~ 74000+\n",
    "print()\n",
    "\n",
    "# print tokens in first review\n",
    "print('Tokenized review: \\n', reviews_ints[:1])"
   ]
  },
  {
   "cell_type": "code",
   "execution_count": 9,
   "metadata": {},
   "outputs": [
    {
     "name": "stdout",
     "output_type": "stream",
     "text": [
      "Zero-length reviews: 0\n",
      "Maximum review length: 42\n"
     ]
    }
   ],
   "source": [
    "# outlier review stats\n",
    "review_lens = Counter([len(x) for x in reviews_ints])\n",
    "print(\"Zero-length reviews: {}\".format(review_lens[0]))\n",
    "print(\"Maximum review length: {}\".format(max(review_lens)))"
   ]
  },
  {
   "cell_type": "code",
   "execution_count": 10,
   "metadata": {},
   "outputs": [
    {
     "name": "stdout",
     "output_type": "stream",
     "text": [
      "[     0.      0.      0.      0.      0.   2001.   8453.   8975.   3945.\n",
      "    286.   5890.   5024.   6320.   4219.   8975.    384.    413.    454.\n",
      "   2001.   8810.   6320.  10328.  10968.   9560.   5498.   1597.  10591.\n",
      "   4482.  11370.   1597.]\n"
     ]
    }
   ],
   "source": [
    "# Test your implementation!\n",
    "seq_length = 30\n",
    "\n",
    "# pad_features will put zeros in front of a tweet in order that all have the same length.\n",
    "features_train = utils.pad_features(reviews_ints, seq_length=seq_length)\n",
    "features_test = utils.pad_features(reviews_ints_test, seq_length=seq_length)\n",
    "\n",
    "## test statements - do not change - ##\n",
    "assert len(features_train)==len(reviews_ints), \"Your features should have as many rows as reviews.\"\n",
    "assert len(features_train[0])==seq_length, \"Each feature row should contain seq_length values.\"\n",
    "\n",
    "# print first 10 values of the first 30 batches \n",
    "print(features_train[3,:30])"
   ]
  },
  {
   "cell_type": "code",
   "execution_count": 11,
   "metadata": {},
   "outputs": [],
   "source": [
    "from sklearn.preprocessing import LabelEncoder\n",
    "\n",
    "le = LabelEncoder().fit(y_train.values.ravel())\n",
    "\n",
    "y_train = le.transform(y_train.values.ravel())\n",
    "y_test = le.transform(y_test.values.ravel())\n",
    "\n",
    "labels_train = np.asarray(y_train)\n",
    "labels_test = np.asarray(y_test)"
   ]
  },
  {
   "cell_type": "code",
   "execution_count": 12,
   "metadata": {},
   "outputs": [
    {
     "data": {
      "text/plain": [
       "((11440, 30), (1270, 30), (1410, 30))"
      ]
     },
     "execution_count": 12,
     "metadata": {},
     "output_type": "execute_result"
    }
   ],
   "source": [
    "split_frac = 0.9\n",
    "#\n",
    "### split data into training, validation\n",
    "#\n",
    "n_samples = features_train.shape[0]\n",
    "idx_train = np.int(n_samples*split_frac)\n",
    "\n",
    "train_x, train_y = features_train[:idx_train-7, :], labels_train[:idx_train-7]\n",
    "validation_x, validation_y = features_train[idx_train+2:, :], labels_train[idx_train+2:]\n",
    "test_x, test_y = features_test[:-4,:], labels_test[:-4]\n",
    "\n",
    "## print out the shapes of your resultant feature data\n",
    "train_x.shape, validation_x.shape, test_x.shape"
   ]
  },
  {
   "cell_type": "code",
   "execution_count": 17,
   "metadata": {},
   "outputs": [],
   "source": [
    "import torch\n",
    "from torch.utils.data import TensorDataset, DataLoader\n",
    "\n",
    "# create Tensor datasets\n",
    "train_data = TensorDataset(torch.from_numpy(train_x), torch.from_numpy(train_y))\n",
    "valid_data = TensorDataset(torch.from_numpy(validation_x), torch.from_numpy(validation_y))\n",
    "test_data = TensorDataset(torch.from_numpy(test_x), torch.from_numpy(test_y))\n",
    "\n",
    "# dataloaders\n",
    "batch_size = 10\n",
    "\n",
    "# make sure to SHUFFLE your data\n",
    "train_loader = DataLoader(train_data, shuffle=True, batch_size=batch_size)\n",
    "valid_loader = DataLoader(valid_data, shuffle=True, batch_size=batch_size)\n",
    "test_loader = DataLoader(test_data, shuffle=True, batch_size=batch_size)"
   ]
  },
  {
   "cell_type": "code",
   "execution_count": 18,
   "metadata": {},
   "outputs": [
    {
     "name": "stdout",
     "output_type": "stream",
     "text": [
      "Sample input size:  torch.Size([10, 30])\n",
      "Sample input: \n",
      " tensor([[    0.,     0.,     0.,     0.,     0.,     0.,     0.,     0.,     0.,\n",
      "             0.,     0.,     0.,     0.,     0.,     0.,     0.,     0.,     0.,\n",
      "             0.,     0.,     0.,     0.,     0.,     0.,     0.,     0.,     0.,\n",
      "          2716.,   789.,  1597.],\n",
      "        [    0.,     0.,     0.,     0.,     0.,     0.,     0.,     0.,     0.,\n",
      "             0.,     0.,     0.,     0.,  7409.,  4787.,  3649.,  6461.,   290.,\n",
      "          7522.,  6443.,  4886.,  6841., 11745.,  9689.,  2496.,  9663.,  2300.,\n",
      "          1597.,  1597.,  1597.],\n",
      "        [    0.,     0.,     0.,     0.,     0.,     0.,     0.,  2872.,  4905.,\n",
      "          9057.,  5043., 11252.,  8025.,  4262.,  5653.,  6422.,  5039.,  2729.,\n",
      "          4308.,  1254.,  4051.,  8727.,  9663.,  9412.,   504.,  9663., 10516.,\n",
      "          6788.,  1597.,  5627.],\n",
      "        [    0.,     0.,     0.,     0.,     0.,     0.,     0.,     0.,     0.,\n",
      "             0.,  5913.,  7288.,  2001.,  2471., 11655.,  2001.,  8700.,  5629.,\n",
      "          3027.,  6493.,  2872.,   627.,  7724.,  6818.,  6320.,  3605.,  4219.,\n",
      "         11542.,  7390.,  6320.],\n",
      "        [    0.,     0.,     0.,     0.,     0.,     0.,     0.,     0.,     0.,\n",
      "             0.,     0.,     0.,     0.,     0.,     0.,     0.,     0.,     0.,\n",
      "             0.,     0.,     0.,     0.,     0.,  6521.,   322.,  4886.,  6841.,\n",
      "           852.,  8022.,  1597.],\n",
      "        [    0.,     0.,     0.,     0.,     0.,     0.,     0.,     0.,  1015.,\n",
      "          5029.,  4262.,   107.,  7409.,  8694.,  5349.,  7044.,  9663.,  2184.,\n",
      "         10470., 10129.,  6320.,  4219.,  5938.,  1524., 11370.,  4262., 11622.,\n",
      "          4000.,  9016.,  7547.],\n",
      "        [    0.,     0.,  6298.,  9964.,  8499.,  4262.,  6570.,  4186.,  3501.,\n",
      "          2001.,  6059.,  8117.,  4869.,  9663.,  8224.,  9057., 11201., 10429.,\n",
      "          3242.,   626., 10749.,  6841.,   396., 11393.,  6841.,  5890.,  4262.,\n",
      "          5756.,  9663.,  6146.],\n",
      "        [    0.,     0.,     0.,     0.,     0.,     0.,     0.,     0.,     0.,\n",
      "             0.,     0.,     0.,     0.,     0.,     0.,     0.,     0.,     0.,\n",
      "             0.,     0.,     0.,     0.,     0., 10095.,  4186.,  4850., 10430.,\n",
      "          6775.,  4413.,  7344.],\n",
      "        [    0.,     0.,     0.,     0.,     0.,     0.,     0.,     0.,     0.,\n",
      "             0.,     0.,     0.,     0.,     0.,     0.,     0.,     0.,     0.,\n",
      "             0.,     0.,     0.,     0.,     0.,     0.,     0.,  7321.,  4308.,\n",
      "          4186.,  6841., 10971.],\n",
      "        [    0.,     0.,     0.,     0.,     0.,     0.,     0.,     0.,     0.,\n",
      "             0.,     0.,     0.,     0.,     0.,     0.,     0.,     0.,     0.,\n",
      "             0.,     0.,     0.,   605.,  1597.,  1524.,  4051.,  7679.,  6320.,\n",
      "          9973.,  6485.,  1597.]], dtype=torch.float64)\n",
      "\n",
      "Sample label size:  torch.Size([10])\n",
      "Sample label: \n",
      " tensor([1, 2, 0, 0, 2, 1, 0, 0, 1, 0])\n"
     ]
    }
   ],
   "source": [
    "# obtain one batch of training data\n",
    "dataiter = iter(train_loader)\n",
    "sample_x, sample_y = dataiter.next()\n",
    "\n",
    "print('Sample input size: ', sample_x.size()) # batch_size, seq_length\n",
    "print('Sample input: \\n', sample_x)\n",
    "print()\n",
    "print('Sample label size: ', sample_y.size()) # batch_size\n",
    "print('Sample label: \\n', sample_y)"
   ]
  },
  {
   "cell_type": "code",
   "execution_count": 19,
   "metadata": {},
   "outputs": [
    {
     "name": "stdout",
     "output_type": "stream",
     "text": [
      "Training on GPU.\n"
     ]
    }
   ],
   "source": [
    "# First checking if GPU is available\n",
    "train_on_gpu=torch.cuda.is_available()\n",
    "\n",
    "if(train_on_gpu):\n",
    "    print('Training on GPU.')\n",
    "else:\n",
    "    print('No GPU available, training on CPU.')"
   ]
  },
  {
   "cell_type": "code",
   "execution_count": 20,
   "metadata": {},
   "outputs": [
    {
     "name": "stdout",
     "output_type": "stream",
     "text": [
      "SentimentRNN(\n",
      "  (embedding): Embedding(11809, 200)\n",
      "  (lstm): LSTM(200, 256, num_layers=3, batch_first=True, dropout=0.5)\n",
      "  (dropout): Dropout(p=0.3)\n",
      "  (fc): Linear(in_features=256, out_features=3, bias=True)\n",
      ")\n"
     ]
    }
   ],
   "source": [
    "from models import SentimentRNN\n",
    "\n",
    "# Instantiate the model w/ hyperparams\n",
    "vocab_size = len((vocab_to_int))+1\n",
    "output_size = 3\n",
    "embedding_dim = 200\n",
    "hidden_dim = 256\n",
    "n_layers = 3\n",
    "\n",
    "net = SentimentRNN(vocab_size, output_size, embedding_dim, hidden_dim, n_layers)\n",
    "\n",
    "print(net)"
   ]
  },
  {
   "cell_type": "code",
   "execution_count": 21,
   "metadata": {},
   "outputs": [],
   "source": [
    "import torch.nn as nn\n",
    "\n",
    "# loss and optimization functions\n",
    "lr = 0.01\n",
    "\n",
    "criterion = nn.CrossEntropyLoss()\n",
    "optimizer = torch.optim.SGD(net.parameters(), lr=lr, momentum = 0.9)"
   ]
  },
  {
   "cell_type": "code",
   "execution_count": 22,
   "metadata": {},
   "outputs": [
    {
     "name": "stdout",
     "output_type": "stream",
     "text": [
      "Epoch: 1/20... Training Loss: 0.830563... Valid Loss: 0.742851... Valid Accuracy: 0.685\n",
      "Saving../\n",
      "Epoch: 2/20... Training Loss: 0.686241... Valid Loss: 0.682811... Valid Accuracy: 0.733\n",
      "Saving../\n",
      "Epoch: 3/20... Training Loss: 0.606735... Valid Loss: 0.610848... Valid Accuracy: 0.758\n",
      "Saving../\n",
      "Epoch: 4/20... Training Loss: 0.540049... Valid Loss: 0.602361... Valid Accuracy: 0.753\n",
      "Saving../\n",
      "Epoch: 5/20... Training Loss: 0.484777... Valid Loss: 0.576417... Valid Accuracy: 0.777\n",
      "Saving../\n",
      "Epoch: 6/20... Training Loss: 0.427329... Valid Loss: 0.616530... Valid Accuracy: 0.776\n",
      "Epoch: 7/20... Training Loss: 0.383976... Valid Loss: 0.596268... Valid Accuracy: 0.774\n",
      "Epoch: 8/20... Training Loss: 0.322043... Valid Loss: 0.675414... Valid Accuracy: 0.773\n",
      "Epoch: 9/20... Training Loss: 0.277741... Valid Loss: 0.651331... Valid Accuracy: 0.768\n",
      "Epoch: 10/20... Training Loss: 0.227370... Valid Loss: 0.748298... Valid Accuracy: 0.773\n",
      "Epoch: 11/20... Training Loss: 0.178126... Valid Loss: 0.897933... Valid Accuracy: 0.769\n",
      "Epoch: 12/20... Training Loss: 0.144317... Valid Loss: 0.901288... Valid Accuracy: 0.748\n",
      "Epoch: 13/20... Training Loss: 0.114865... Valid Loss: 1.033433... Valid Accuracy: 0.764\n",
      "Epoch: 14/20... Training Loss: 0.094809... Valid Loss: 1.104085... Valid Accuracy: 0.740\n",
      "Epoch: 15/20... Training Loss: 0.080392... Valid Loss: 1.161039... Valid Accuracy: 0.757\n",
      "Epoch: 16/20... Training Loss: 0.058389... Valid Loss: 1.279109... Valid Accuracy: 0.769\n",
      "Epoch: 17/20... Training Loss: 0.046232... Valid Loss: 1.375953... Valid Accuracy: 0.762\n",
      "Epoch: 18/20... Training Loss: 0.035912... Valid Loss: 1.499630... Valid Accuracy: 0.765\n",
      "Epoch: 19/20... Training Loss: 0.033849... Valid Loss: 1.413565... Valid Accuracy: 0.755\n",
      "Epoch: 20/20... Training Loss: 0.024682... Valid Loss: 1.663837... Valid Accuracy: 0.755\n"
     ]
    }
   ],
   "source": [
    "net.train_data(train_loader, valid_loader, batch_size, \n",
    "          criterion, optimizer, saving_path = 'models/model_pure_200dims.pt',\n",
    "               lr = lr, clip = 5, num_epochs = 20)"
   ]
  },
  {
   "cell_type": "code",
   "execution_count": 23,
   "metadata": {},
   "outputs": [
    {
     "data": {
      "image/png": "[encoded data removed]",
      "text/plain": [
       "<Figure size 1080x720 with 1 Axes>"
      ]
     },
     "metadata": {},
     "output_type": "display_data"
    }
   ],
   "source": [
    "import matplotlib.pyplot as plt\n",
    "\n",
    "%matplotlib inline\n",
    "\n",
    "fig, ax = plt.subplots()\n",
    "\n",
    "ax.plot(list(range(len(net.train_history))), net.train_history, 'g-o', label = 'Score')\n",
    "ax.plot(list(range(len(net.valid_history))), net.valid_history, 'b-o', label = 'Score', )\n",
    "ax.legend()\n",
    "ax.set_xlabel('Épocas')\n",
    "ax.set_ylabel('Loss')\n",
    "ax.grid()\n",
    "\n",
    "fig.set_figheight(10)\n",
    "fig.set_figwidth(15)"
   ]
  },
  {
   "cell_type": "code",
   "execution_count": 26,
   "metadata": {},
   "outputs": [
    {
     "name": "stdout",
     "output_type": "stream",
     "text": [
      "Test loss: 0.570 Test accuracy: 0.773\n",
      "None\n",
      "Test loss: 0.571 Test accuracy: 0.775\n"
     ]
    }
   ],
   "source": [
    "# Loading the best model\n",
    "\n",
    "print(net.test(test_loader, batch_size, criterion))\n",
    "\n",
    "checkpoint = torch.load('model_pure_200dims.pt')\n",
    "net.load_state_dict(checkpoint['model_state_dict'])\n",
    "\n",
    "net.test(test_loader, batch_size, criterion)"
   ]
  },
  {
   "cell_type": "code",
   "execution_count": 27,
   "metadata": {},
   "outputs": [],
   "source": [
    "# saving predictions\n",
    "def saving_preds(name, model, flag):\n",
    "    parameter = model.predictions if flag=='preds' else model.labels\n",
    "    y_pred = [prediction for list_ in parameter \n",
    "                   for prediction in list_.cpu().numpy()]\n",
    "    y_pred = np.array(y_pred)\n",
    "    np.save(name, y_pred)\n",
    "    \n",
    "saving_preds('data/y_pred_net_200', net, flag = 'preds')\n",
    "saving_preds('data/y_test_net_200', net, flag = 'labels')"
   ]
  },
  {
   "cell_type": "markdown",
   "metadata": {},
   "source": [
    "### LSTM + Glove Embeddings"
   ]
  },
  {
   "cell_type": "code",
   "execution_count": 28,
   "metadata": {},
   "outputs": [],
   "source": [
    "import csv\n",
    "\n",
    "PATH = 'word_embeddings/glove.twitter.27B.200d.txt'\n",
    "glovewords = pd.read_table(PATH, sep=\" \", index_col=0, header=None, quoting=csv.QUOTE_NONE)"
   ]
  },
  {
   "cell_type": "code",
   "execution_count": 29,
   "metadata": {},
   "outputs": [
    {
     "data": {
      "text/plain": [
       "1      0.493500\n",
       "2      0.356980\n",
       "3      0.660680\n",
       "4     -0.032975\n",
       "5      0.249890\n",
       "6      0.259360\n",
       "7     -0.027169\n",
       "8      0.068403\n",
       "9     -0.290630\n",
       "10    -0.457050\n",
       "11    -0.077940\n",
       "12     0.325160\n",
       "13    -1.485200\n",
       "14    -0.067472\n",
       "15    -0.170330\n",
       "16    -0.009296\n",
       "17     0.346280\n",
       "18    -0.011575\n",
       "19     0.037965\n",
       "20     0.456170\n",
       "21     0.080486\n",
       "22     0.153100\n",
       "23    -0.153090\n",
       "24    -0.188100\n",
       "25    -0.181950\n",
       "26     0.872450\n",
       "27     0.397920\n",
       "28     0.409950\n",
       "29     0.449820\n",
       "30    -0.001965\n",
       "         ...   \n",
       "171   -0.182710\n",
       "172    0.296100\n",
       "173    0.218550\n",
       "174    0.192330\n",
       "175    0.152290\n",
       "176   -0.013649\n",
       "177   -0.050622\n",
       "178   -0.096446\n",
       "179    0.015646\n",
       "180    0.511670\n",
       "181    0.147230\n",
       "182   -0.081492\n",
       "183   -0.310690\n",
       "184   -0.111670\n",
       "185   -0.134330\n",
       "186    0.366700\n",
       "187   -0.296590\n",
       "188   -0.499520\n",
       "189   -0.060474\n",
       "190    0.004695\n",
       "191   -0.166170\n",
       "192   -0.170180\n",
       "193    0.112330\n",
       "194    0.160400\n",
       "195   -0.171420\n",
       "196   -0.156210\n",
       "197   -0.113660\n",
       "198    0.177060\n",
       "199   -0.536950\n",
       "200   -0.296990\n",
       "Name: the, Length: 200, dtype: float64"
      ]
     },
     "execution_count": 29,
     "metadata": {},
     "output_type": "execute_result"
    }
   ],
   "source": [
    "glovewords.loc['the', :]"
   ]
  },
  {
   "cell_type": "markdown",
   "metadata": {},
   "source": [
    "Now, we need to map our indices to words and its respective wordVec in glove model."
   ]
  },
  {
   "cell_type": "code",
   "execution_count": 30,
   "metadata": {},
   "outputs": [],
   "source": [
    "int_to_vocab = {value:item for item, value in vocab_to_int.items()}\n",
    "\n",
    "embedded_dim = 200\n",
    "matrix_len = len((vocab_to_int))+1\n",
    "weights_matrix = np.zeros((matrix_len, embedded_dim))\n",
    "words_found = 0\n",
    "words_not_found = []\n",
    "\n",
    "for word in vocab_to_int:\n",
    "    try:\n",
    "        i = vocab_to_int[word]\n",
    "        weights_matrix[i] = glovewords.loc[word, :]\n",
    "        words_found += 1\n",
    "    except KeyError:\n",
    "        words_not_found.append(word)\n",
    "        weights_matrix[i] = np.random.normal(scale=0.6, size=(embedded_dim, ))"
   ]
  },
  {
   "cell_type": "code",
   "execution_count": 31,
   "metadata": {},
   "outputs": [
    {
     "name": "stdout",
     "output_type": "stream",
     "text": [
      "Words found 8820\n"
     ]
    },
    {
     "data": {
      "text/plain": [
       "(11809, 200)"
      ]
     },
     "execution_count": 31,
     "metadata": {},
     "output_type": "execute_result"
    }
   ],
   "source": [
    "print('Words found {}'.format(words_found))\n",
    "weights_matrix.shape"
   ]
  },
  {
   "cell_type": "code",
   "execution_count": 32,
   "metadata": {},
   "outputs": [
    {
     "name": "stdout",
     "output_type": "stream",
     "text": [
      "SentimentRNN(\n",
      "  (embedding): Embedding(11809, 200)\n",
      "  (lstm): LSTM(200, 256, num_layers=3, batch_first=True, dropout=0.5)\n",
      "  (dropout): Dropout(p=0.3)\n",
      "  (fc): Linear(in_features=256, out_features=3, bias=True)\n",
      ")\n"
     ]
    }
   ],
   "source": [
    "model_glove = SentimentRNN(vocab_size, output_size, embedded_dim, hidden_dim, n_layers)\n",
    "\n",
    "lr = 0.01\n",
    "\n",
    "criterion = nn.CrossEntropyLoss()\n",
    "optimizer = torch.optim.SGD(model_glove.parameters(), lr=lr, momentum = 0.9)\n",
    "\n",
    "print(model_glove)"
   ]
  },
  {
   "cell_type": "code",
   "execution_count": 33,
   "metadata": {},
   "outputs": [],
   "source": [
    "weights = torch.from_numpy(weights_matrix)\n",
    "model_glove.embedding.load_state_dict({'weight': weights})\n",
    "\n",
    "model_glove.embedding.weight.requires_grad = False"
   ]
  },
  {
   "cell_type": "code",
   "execution_count": 34,
   "metadata": {},
   "outputs": [
    {
     "name": "stdout",
     "output_type": "stream",
     "text": [
      "Epoch: 1/30... Training Loss: 0.861146... Valid Loss: 0.803910... Valid Accuracy: 0.682\n",
      "Saving../\n",
      "Epoch: 2/30... Training Loss: 0.701478... Valid Loss: 0.598064... Valid Accuracy: 0.769\n",
      "Saving../\n",
      "Epoch: 3/30... Training Loss: 0.614204... Valid Loss: 0.581054... Valid Accuracy: 0.765\n",
      "Saving../\n",
      "Epoch: 4/30... Training Loss: 0.562883... Valid Loss: 0.600516... Valid Accuracy: 0.744\n",
      "Epoch: 5/30... Training Loss: 0.536687... Valid Loss: 0.568705... Valid Accuracy: 0.777\n",
      "Saving../\n",
      "Epoch: 6/30... Training Loss: 0.515513... Valid Loss: 0.538852... Valid Accuracy: 0.783\n",
      "Saving../\n",
      "Epoch: 7/30... Training Loss: 0.492357... Valid Loss: 0.533163... Valid Accuracy: 0.783\n",
      "Saving../\n",
      "Epoch: 8/30... Training Loss: 0.475926... Valid Loss: 0.575589... Valid Accuracy: 0.776\n",
      "Epoch: 9/30... Training Loss: 0.461623... Valid Loss: 0.515353... Valid Accuracy: 0.793\n",
      "Saving../\n",
      "Epoch: 10/30... Training Loss: 0.448576... Valid Loss: 0.519708... Valid Accuracy: 0.796\n",
      "Epoch: 11/30... Training Loss: 0.428914... Valid Loss: 0.524400... Valid Accuracy: 0.787\n",
      "Epoch: 12/30... Training Loss: 0.413968... Valid Loss: 0.542872... Valid Accuracy: 0.791\n",
      "Epoch: 13/30... Training Loss: 0.399637... Valid Loss: 0.543052... Valid Accuracy: 0.783\n",
      "Epoch: 14/30... Training Loss: 0.392106... Valid Loss: 0.544728... Valid Accuracy: 0.789\n",
      "Epoch: 15/30... Training Loss: 0.370340... Valid Loss: 0.569202... Valid Accuracy: 0.781\n",
      "Epoch: 16/30... Training Loss: 0.360660... Valid Loss: 0.563710... Valid Accuracy: 0.782\n",
      "Epoch: 17/30... Training Loss: 0.350160... Valid Loss: 0.568170... Valid Accuracy: 0.791\n",
      "Epoch: 18/30... Training Loss: 0.328638... Valid Loss: 0.611526... Valid Accuracy: 0.779\n",
      "Epoch: 19/30... Training Loss: 0.317717... Valid Loss: 0.612974... Valid Accuracy: 0.791\n",
      "Epoch: 20/30... Training Loss: 0.299838... Valid Loss: 0.614215... Valid Accuracy: 0.787\n",
      "Epoch: 21/30... Training Loss: 0.280133... Valid Loss: 0.693326... Valid Accuracy: 0.757\n",
      "Epoch: 22/30... Training Loss: 0.266030... Valid Loss: 0.714939... Valid Accuracy: 0.774\n",
      "Epoch: 23/30... Training Loss: 0.255362... Valid Loss: 0.769574... Valid Accuracy: 0.769\n",
      "Epoch: 24/30... Training Loss: 0.241539... Valid Loss: 0.747451... Valid Accuracy: 0.774\n",
      "Epoch: 25/30... Training Loss: 0.230807... Valid Loss: 0.772932... Valid Accuracy: 0.763\n",
      "Epoch: 26/30... Training Loss: 0.204964... Valid Loss: 0.771352... Valid Accuracy: 0.767\n",
      "Epoch: 27/30... Training Loss: 0.193471... Valid Loss: 0.804298... Valid Accuracy: 0.757\n",
      "Epoch: 28/30... Training Loss: 0.184671... Valid Loss: 0.847912... Valid Accuracy: 0.765\n",
      "Epoch: 29/30... Training Loss: 0.171795... Valid Loss: 0.805192... Valid Accuracy: 0.762\n",
      "Epoch: 30/30... Training Loss: 0.151396... Valid Loss: 0.908247... Valid Accuracy: 0.755\n"
     ]
    }
   ],
   "source": [
    "model_glove.train_data(train_loader, valid_loader, batch_size, \n",
    "          criterion, optimizer, saving_path = 'models/model_glove_200dims.pt',\n",
    "                       lr = lr, clip = 5, num_epochs = 30)"
   ]
  },
  {
   "cell_type": "code",
   "execution_count": 35,
   "metadata": {},
   "outputs": [
    {
     "data": {
      "image/png": "[encoded data removed]",
      "text/plain": [
       "<Figure size 1080x720 with 1 Axes>"
      ]
     },
     "metadata": {},
     "output_type": "display_data"
    }
   ],
   "source": [
    "fig, ax = plt.subplots()\n",
    "\n",
    "ax.plot(list(range(len(model_glove.train_history))), model_glove.train_history, 'g-o', label = 'Train Score')\n",
    "ax.plot(list(range(len(model_glove.valid_history))), model_glove.valid_history, 'b-o', label = 'Valid Score', )\n",
    "ax.legend()\n",
    "ax.set_xlabel('Epochs')\n",
    "ax.set_ylabel('Loss')\n",
    "ax.grid()\n",
    "\n",
    "fig.set_figheight(10)\n",
    "fig.set_figwidth(15)"
   ]
  },
  {
   "cell_type": "code",
   "execution_count": 36,
   "metadata": {},
   "outputs": [
    {
     "name": "stdout",
     "output_type": "stream",
     "text": [
      "Test loss: 0.898 Test accuracy: 0.759\n",
      "None\n",
      "Test loss: 0.487 Test accuracy: 0.824\n"
     ]
    }
   ],
   "source": [
    "# Loading the best model\n",
    "print(model_glove.test(test_loader, batch_size, criterion))\n",
    "\n",
    "checkpoint = torch.load('models/model_glove_200dims.pt')\n",
    "model_glove.load_state_dict(checkpoint['model_state_dict'])\n",
    "\n",
    "model_glove.test(test_loader, batch_size, criterion) "
   ]
  },
  {
   "cell_type": "code",
   "execution_count": 37,
   "metadata": {},
   "outputs": [],
   "source": [
    "# saving predictions\n",
    "saving_preds('data/y_pred_glove_200', model_glove, flag = 'preds')\n",
    "saving_preds('data/y_test_glove_200', model_glove, flag = 'labels')"
   ]
  },
  {
   "cell_type": "code",
   "execution_count": 39,
   "metadata": {},
   "outputs": [],
   "source": [
    "import pickle\n",
    "\n",
    "with open('data/vocab_to_int', 'wb') as fp:\n",
    "    pickle.dump(vocab_to_int, fp)"
   ]
  },
  {
   "cell_type": "code",
   "execution_count": 40,
   "metadata": {},
   "outputs": [
    {
     "name": "stdout",
     "output_type": "stream",
     "text": [
      "tensor([[    0.,     0.,     0.,     0.,  8077.,  2788.,   504.,  9152.,  2252.,\n",
      "          9560.,  2505.,   804.,  3751., 11393.,  9911.,  6320., 11063., 11522.,\n",
      "          5344.,  4262.,  6290.,  4542.,  4262.,  6841., 10853.,  6320.,  8096.,\n",
      "           804.,  7595.,  9748.],\n",
      "        [    0.,     0.,     0.,     0.,     0.,     0.,     0.,     0.,     0.,\n",
      "             0.,     0.,     0.,   273.,  9036.,  9663.,  8084.,  6320.,  6053.,\n",
      "          4084.,  4308.,  4262.,  2872.,  5070.,  1850.,  6493., 11409., 11370.,\n",
      "          4886., 10784.,  6320.],\n",
      "        [    0.,   273.,  7218.,  4308., 10669.,  9560.,  2471.,  8983.,  5877.,\n",
      "          4308.,   896.,  2001.,  3050.,  1318.,   878.,  4886., 10784.,  4186.,\n",
      "          8810.,  2741.,  9450.,  4262.,  6344.,  9663.,  5890.,  8416.,   286.,\n",
      "          2872.,  1885.,  6320.],\n",
      "        [    0.,     0.,     0.,     0.,     0.,     0.,     0.,     0.,     0.,\n",
      "             0.,     0.,     0.,     0.,  9689.,  8753., 11273.,  6844.,  4000.,\n",
      "          4262.,  4308.,  1597.,  5882., 11607.,  6777.,  9450.,  4262.,  6059.,\n",
      "          5043.,  8186.,  1597.],\n",
      "        [    0.,     0.,     0.,     0.,  1324.,  2001.,  8931.,  2872., 10371.,\n",
      "          1281., 10419.,  3482.,  2729., 11393.,  1719., 11599.,  6320.,  5433.,\n",
      "          6299.,  4262.,  9065.,  3703.,  1030.,   504.,  9663.,  1123.,  7044.,\n",
      "          5947., 11599.,  5947.],\n",
      "        [    0.,     0.,     0.,     0.,     0.,     0.,     0.,     0.,  7409.,\n",
      "          4787.,  7286.,  6461., 10805.,  9152.,  2932.,  8089.,  7522.,  9668.,\n",
      "          9057.,   616.,  2001.,   273.,  2519.,  5029.,  4262.,   474.,  7044.,\n",
      "          7409.,  6648.,  8623.],\n",
      "        [    0.,     0.,     0.,     0.,     0.,     0.,     0.,     0.,     0.,\n",
      "             0.,     0.,     0.,     0.,     0.,     0.,     0.,     0.,     0.,\n",
      "             0.,     0.,     0.,     0.,     0.,  3605.,  3477.,  9094.,  4262.,\n",
      "         11273.,  1179.,  1597.],\n",
      "        [    0.,     0.,     0.,     0.,     0.,     0.,     0.,     0.,     0.,\n",
      "             0.,     0.,  6298.,  2872.,  5890.,  2001.,   761.,  2001.,  7522.,\n",
      "          3482.,  2001., 10863.,  6818.,  6059.,   273.,  9464.,  4262.,  2543.,\n",
      "          9152.,  9617.,  9016.],\n",
      "        [    0.,     0.,     0.,  8000.,  3270.,  1567.,  1200.,  5890.,  8094.,\n",
      "          5917.,  4186.,  6841.,  6116.,  9057.,  2760.,  6268.,  6320.,  8408.,\n",
      "          6841.,  9112., 11504.,  7355.,   286.,  6116.,  4186.,  2030.,   745.,\n",
      "          9057.,  6609.,  5905.],\n",
      "        [    0.,     0.,     0.,     0.,     0.,     0.,     0.,     0.,     0.,\n",
      "             0.,     0.,     0.,     0., 10546.,  9642.,  6059.,  3605.,  9464.,\n",
      "          4262., 11273.,  3482.,  6493.,  3327.,  3739.,  3605.,  9065.,  9663.,\n",
      "          3474.,  7033.,  9016.]], dtype=torch.float64)\n"
     ]
    }
   ],
   "source": [
    "for inputs, label in train_loader:\n",
    "    print(inputs)\n",
    "    break"
   ]
  }
 ],
 "metadata": {
  "kernelspec": {
   "display_name": "Python 3",
   "language": "python",
   "name": "python3"
  },
  "language_info": {
   "codemirror_mode": {
    "name": "ipython",
    "version": 3
   },
   "file_extension": ".py",
   "mimetype": "text/x-python",
   "name": "python",
   "nbconvert_exporter": "python",
   "pygments_lexer": "ipython3",
   "version": "3.6.5"
  }
 },
 "nbformat": 4,
 "nbformat_minor": 2
}
